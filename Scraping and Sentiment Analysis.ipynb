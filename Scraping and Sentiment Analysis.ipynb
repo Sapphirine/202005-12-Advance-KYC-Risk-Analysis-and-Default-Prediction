{
 "cells": [
  {
   "cell_type": "markdown",
   "metadata": {},
   "source": [
    "## 5th shot: Yahoo News\n",
    "Start from Yahoo.finance to search company related news by searching names. Only news within three months are showed on the website so we decided to collect headings of the latest news and the articles from them. To access the polarity and the sensitivity of them by sentiment analysis. "
   ]
  },
  {
   "cell_type": "code",
   "execution_count": 1,
   "metadata": {},
   "outputs": [],
   "source": [
    "from textblob import TextBlob\n",
    "import pandas as pd\n",
    "import numpy as np\n",
    "import re\n",
    "import fnmatch\n",
    "from bs4 import BeautifulSoup\n",
    "import requests\n",
    "data = pd.read_csv('Financial_Data.csv')\n",
    "name = data['name'].to_list()\n",
    "#USER_AGENT=\"Mozilla/5.0 (Windows NT 10.0; Win64; x64) AppleWebKit/537.36 (KHTML, like Gecko) Chrome/80.0.3987.149 Safari/537.36\"\n",
    "USER_AGENT = \"Mozilla/5.0 (Windows; U; Windows NT 6.1; en-US) AppleWebKit/534.16 (KHTML, like Gecko) Chrome/10.0.648.133 Safari/534.16\"\n",
    "headers = {\"user-agent\" : USER_AGENT}"
   ]
  },
  {
   "cell_type": "code",
   "execution_count": 5,
   "metadata": {},
   "outputs": [
    {
     "name": "stdout",
     "output_type": "stream",
     "text": [
      "   title_sentiment  title_subjectivity  arti_sentiment  arti_subjectivity\n",
      "0            0.033               0.133            -0.1                0.4\n"
     ]
    }
   ],
   "source": [
    "a = Analysis(name[0])\n",
    "r1 = a.run()\n",
    "print(r1)"
   ]
  },
  {
   "cell_type": "code",
   "execution_count": null,
   "metadata": {},
   "outputs": [],
   "source": [
    "query = name[0]\n",
    "query = query.replace(' ', '+')"
   ]
  },
  {
   "cell_type": "code",
   "execution_count": 55,
   "metadata": {},
   "outputs": [],
   "source": [
    "class headline:\n",
    "    def __init__(self, term):\n",
    "        self.term = term\n",
    "        self.url = f'https://news.search.yahoo.com/search?q={self.term}'\n",
    "        self.index = 5\n",
    "    \n",
    "    def run(self):\n",
    "        response = requests.get(self.url)\n",
    "        soup = BeautifulSoup(response.text, 'html.parser')\n",
    "        results = soup.find_all('div', class_='dd NewsArticle')\n",
    "        for news_item in results:\n",
    "            title = news_item.find('h4').text\n",
    "            blob = TextBlob(title)\n",
    "            link = news_item.find('a').get('href')\n",
    "            time = news_item.find('span', class_='fc-2nd').text\n",
    "            # Clean time text\n",
    "            #time = time.replace('·', '').encode('utf-8').strip()\n",
    "            if fnmatch.fnmatch(link,'*finance.yahoo*'):\n",
    "                self.index = 1\n",
    "            if self.index == 1 & bool(link and link.strip()):\n",
    "                arti = BeautifulSoup(requests.get(link).text,'html.parser')\n",
    "                more_item = arti.find('div',class_='canvas-body')\n",
    "                result = more_item.find('p')\n",
    "                #result = arti.find('div',class_='canvas-body').find('p')\n",
    "                #print(more_item)\n",
    "                topline = TextBlob(result.get_text())\n",
    "                self.index +=1\n",
    "        return(\"{} ({}) {}\".format(title, time, link))"
   ]
  },
  {
   "cell_type": "code",
   "execution_count": 56,
   "metadata": {},
   "outputs": [
    {
     "name": "stdout",
     "output_type": "stream",
     "text": [
      "Is a Beat in the Offing for Earthstone's (ESTE) Q1 Earnings? (· 2 days ago) https://finance.yahoo.com/news/beat-offing-earthstones-este-q1-143902758.html\n"
     ]
    }
   ],
   "source": [
    "b = headline(name[0])\n",
    "r1 = b.run()\n",
    "print(r1)"
   ]
  },
  {
   "cell_type": "code",
   "execution_count": 19,
   "metadata": {},
   "outputs": [
    {
     "ename": "AttributeError",
     "evalue": "'NoneType' object has no attribute 'find'",
     "output_type": "error",
     "traceback": [
      "\u001b[1;31m---------------------------------------------------------------------------\u001b[0m",
      "\u001b[1;31mAttributeError\u001b[0m                            Traceback (most recent call last)",
      "\u001b[1;32m<ipython-input-19-d4209d2f7f9d>\u001b[0m in \u001b[0;36m<module>\u001b[1;34m\u001b[0m\n\u001b[0;32m     20\u001b[0m     \u001b[0marti\u001b[0m \u001b[1;33m=\u001b[0m \u001b[0mBeautifulSoup\u001b[0m\u001b[1;33m(\u001b[0m\u001b[0mrequests\u001b[0m\u001b[1;33m.\u001b[0m\u001b[0mget\u001b[0m\u001b[1;33m(\u001b[0m\u001b[0mlink\u001b[0m\u001b[1;33m)\u001b[0m\u001b[1;33m.\u001b[0m\u001b[0mtext\u001b[0m\u001b[1;33m,\u001b[0m\u001b[1;34m'html.parser'\u001b[0m\u001b[1;33m)\u001b[0m\u001b[1;33m\u001b[0m\u001b[1;33m\u001b[0m\u001b[0m\n\u001b[0;32m     21\u001b[0m     \u001b[0mmore_item\u001b[0m \u001b[1;33m=\u001b[0m \u001b[0marti\u001b[0m\u001b[1;33m.\u001b[0m\u001b[0mfind\u001b[0m\u001b[1;33m(\u001b[0m\u001b[1;34m'div'\u001b[0m\u001b[1;33m,\u001b[0m\u001b[0mclass_\u001b[0m\u001b[1;33m=\u001b[0m\u001b[1;34m'canvas-body'\u001b[0m\u001b[1;33m)\u001b[0m\u001b[1;33m\u001b[0m\u001b[1;33m\u001b[0m\u001b[0m\n\u001b[1;32m---> 22\u001b[1;33m     \u001b[0mresult\u001b[0m \u001b[1;33m=\u001b[0m \u001b[0mmore_item\u001b[0m\u001b[1;33m.\u001b[0m\u001b[0mfind\u001b[0m\u001b[1;33m(\u001b[0m\u001b[1;34m'p'\u001b[0m\u001b[1;33m)\u001b[0m\u001b[1;33m\u001b[0m\u001b[1;33m\u001b[0m\u001b[0m\n\u001b[0m\u001b[0;32m     23\u001b[0m     \u001b[0mtopline\u001b[0m \u001b[1;33m=\u001b[0m \u001b[0mTextBlob\u001b[0m\u001b[1;33m(\u001b[0m\u001b[0mresult\u001b[0m\u001b[1;33m.\u001b[0m\u001b[0mget_text\u001b[0m\u001b[1;33m(\u001b[0m\u001b[1;33m)\u001b[0m\u001b[1;33m)\u001b[0m\u001b[1;33m\u001b[0m\u001b[1;33m\u001b[0m\u001b[0m\n\u001b[0;32m     24\u001b[0m     \u001b[0mprint\u001b[0m\u001b[1;33m(\u001b[0m\u001b[1;34m\"{} ({})\"\u001b[0m\u001b[1;33m.\u001b[0m\u001b[0mformat\u001b[0m\u001b[1;33m(\u001b[0m\u001b[0mtitle\u001b[0m\u001b[1;33m,\u001b[0m \u001b[0mtime\u001b[0m\u001b[1;33m)\u001b[0m\u001b[1;33m)\u001b[0m\u001b[1;33m\u001b[0m\u001b[1;33m\u001b[0m\u001b[0m\n",
      "\u001b[1;31mAttributeError\u001b[0m: 'NoneType' object has no attribute 'find'"
     ]
    }
   ],
   "source": [
    "term = 'usa'\n",
    "url = f'https://news.search.yahoo.com/search?q={query}'\n",
    "response = requests.get(url)\n",
    "soup = BeautifulSoup(response.text, 'html.parser')\n",
    "results = soup.find_all('div', class_='dd NewsArticle')\n",
    "index = 0\n",
    "for news_item in results:\n",
    "    title = news_item.find('h4').text\n",
    "    blob = TextBlob(title)\n",
    "    #print(index)\n",
    "    title_sentiment += blob.sentiment.polarity\n",
    "    title_subjectivity += blob.sentiment.subjectivity\n",
    "    time = news_item.find('span', class_='fc-2nd').text\n",
    "    # Clean time text\n",
    "    time = time.replace('·', '').strip()\n",
    "    link = news_item.find('a').get('href')\n",
    "    #print(link)\n",
    "    if fnmatch.fnmatch(link,'*finance.yahoo*'):\n",
    "        index +=1\n",
    "    arti = BeautifulSoup(requests.get(link).text,'html.parser')\n",
    "    more_item = arti.find('div',class_='canvas-body')\n",
    "    result = more_item.find('p')\n",
    "    topline = TextBlob(result.get_text())\n",
    "    print(\"{} ({})\".format(title, time))\n",
    "    print(\"{}\".format(topline))"
   ]
  },
  {
   "cell_type": "markdown",
   "metadata": {},
   "source": [
    "## This is the refined code for analysis"
   ]
  },
  {
   "cell_type": "code",
   "execution_count": 12,
   "metadata": {},
   "outputs": [],
   "source": [
    "query = name[0]\n",
    "query = query.replace(' ', '+')"
   ]
  },
  {
   "cell_type": "code",
   "execution_count": 24,
   "metadata": {},
   "outputs": [],
   "source": [
    "term = 'usa'\n",
    "url = f'https://news.search.yahoo.com/search?q={query}'\n",
    "response = requests.get(url)\n",
    "soup = BeautifulSoup(response.text, 'html.parser')\n",
    "title_sentiment = 0\n",
    "title_subjectivity = 0\n",
    "results = soup.find_all('div', class_='dd NewsArticle')\n",
    "index = 0\n",
    "for news_item in results:\n",
    "    title = news_item.find('h4').text\n",
    "    blob = TextBlob(title)\n",
    "    #print(index)\n",
    "    title_sentiment += blob.sentiment.polarity\n",
    "    title_subjectivity += blob.sentiment.subjectivity\n",
    "    time = news_item.find('span', class_='fc-2nd').text\n",
    "    # Clean time text\n",
    "    time = time.replace('·', '').strip()\n",
    "    link = news_item.find('a').get('href')\n",
    "    #print(link)\n",
    "    if fnmatch.fnmatch(link,'*finance.yahoo*'):\n",
    "        index +=1\n",
    "    print(\"{} ({}) {} {}\".format(title, time, title_sentiment, title_subjectivity))\n",
    "    if index == 1 & bool(link and link.strip()):\n",
    "        #print(index)\n",
    "        print(link)\n",
    "        arti = BeautifulSoup(requests.get(link).text,'html.parser')\n",
    "        more_item = arti.find('div',class_='canvas-body')\n",
    "        result = more_item.find('p')\n",
    "        sentiment = 0\n",
    "        subjectivity = 0\n",
    "        print(type(result))\n",
    "        #result = more_item.find('p')\n",
    "        topline = TextBlob(result.get_text())\n",
    "        sentiment = topline.sentiment.polarity\n",
    "        subjectivity = topline.sentiment.subjectivity\n",
    "        #print(sentiment, subjectivity)\n",
    "        index +=1\n",
    "    print(index)\n",
    "print(round(title_sentiment/ len(results),3), round(title_subjectivity/ len(results),3), round(sentiment,3), round(subjectivity,3))"
   ]
  },
  {
   "cell_type": "code",
   "execution_count": 25,
   "metadata": {},
   "outputs": [
    {
     "name": "stdout",
     "output_type": "stream",
     "text": [
      "<p class=\"canvas-atom canvas-text Mb(1.0em) Mb(0)--sm Mt(0.8em)--sm\" content=\"&lt;strong&gt;EOG Resources, Inc.&amp;nbsp;&lt;/strong&gt;EOG is slated to report first-quarter 2020 results on May 7, after the closing bell.\" data-reactid=\"12\" type=\"text\"><strong>EOG Resources, Inc. </strong>EOG is slated to report first-quarter 2020 results on May 7, after the closing bell.</p>\n",
      "EOG Resources, Inc. EOG is slated to report first-quarter 2020 results on May 7, after the closing bell.\n"
     ]
    }
   ],
   "source": [
    "a = article(name[0])\n",
    "r1 = a.run()\n",
    "print(r1)"
   ]
  },
  {
   "cell_type": "code",
   "execution_count": 18,
   "metadata": {},
   "outputs": [
    {
     "name": "stdout",
     "output_type": "stream",
     "text": [
      "https://finance.yahoo.com/news/eog-resources-eog-report-q1-143602691.html\n"
     ]
    },
    {
     "data": {
      "text/plain": [
       "True"
      ]
     },
     "execution_count": 18,
     "metadata": {},
     "output_type": "execute_result"
    }
   ],
   "source": [
    "print(link)\n",
    "fnmatch.fnmatch(link,'*yahoo*')"
   ]
  },
  {
   "cell_type": "code",
   "execution_count": null,
   "metadata": {},
   "outputs": [],
   "source": [
    "arti.find('div')"
   ]
  },
  {
   "cell_type": "code",
   "execution_count": 117,
   "metadata": {},
   "outputs": [
    {
     "data": {
      "text/plain": [
       "200"
      ]
     },
     "execution_count": 117,
     "metadata": {},
     "output_type": "execute_result"
    }
   ],
   "source": [
    "response.status_code"
   ]
  },
  {
   "cell_type": "code",
   "execution_count": 101,
   "metadata": {},
   "outputs": [
    {
     "data": {
      "text/plain": [
       "bs4.element.Tag"
      ]
     },
     "execution_count": 101,
     "metadata": {},
     "output_type": "execute_result"
    }
   ],
   "source": [
    "type(arti.find('div',class_='canvas-body').find('p'))"
   ]
  },
  {
   "cell_type": "markdown",
   "metadata": {},
   "source": [
    "## Fake useragent"
   ]
  },
  {
   "cell_type": "code",
   "execution_count": 19,
   "metadata": {},
   "outputs": [
    {
     "data": {
      "text/plain": [
       "'Mozilla/5.0 (Windows NT 6.2; Win64; x64) AppleWebKit/537.36 (KHTML, like Gecko) Chrome/32.0.1667.0 Safari/537.36'"
      ]
     },
     "execution_count": 19,
     "metadata": {},
     "output_type": "execute_result"
    }
   ],
   "source": [
    "from fake_useragent import UserAgent\n",
    "ua = UserAgent()\n",
    "\n",
    "ua.chrome"
   ]
  },
  {
   "cell_type": "code",
   "execution_count": 20,
   "metadata": {},
   "outputs": [],
   "source": [
    "#USER_AGENT=\"Mozilla/5.0 (Windows NT 10.0; Win64; x64) AppleWebKit/537.36 (KHTML, like Gecko) Chrome/60.0.3988.0 Safari/537.36\"\n",
    "USER_AGENT = ua.chrome\n",
    "headers = {\"user-agent\" : USER_AGENT}"
   ]
  },
  {
   "cell_type": "code",
   "execution_count": 4,
   "metadata": {},
   "outputs": [],
   "source": [
    "class Analysis:\n",
    "    def __init__(self, term):\n",
    "        self.term = term\n",
    "        self.title_sentiment = 0\n",
    "        self.title_subjectivity = 0\n",
    "        self.arti_sentiment = 0\n",
    "        self.arti_subjectivity = 0\n",
    "        self.url = f'https://news.search.yahoo.com/search?q={self.term}'\n",
    "        self.index = 5\n",
    "    \n",
    "    def run(self):\n",
    "        response = requests.get(self.url)\n",
    "        soup = BeautifulSoup(response.text, 'html.parser')\n",
    "        results = soup.find_all('div', class_='dd NewsArticle')\n",
    "        for news_item in results:\n",
    "            title = news_item.find('h4').text\n",
    "            blob = TextBlob(title)\n",
    "            self.title_sentiment += blob.sentiment.polarity\n",
    "            self.title_subjectivity += blob.sentiment.subjectivity\n",
    "            link = news_item.find('a').get('href')\n",
    "            if fnmatch.fnmatch(link,'*finance.yahoo*'):\n",
    "                self.index = 1\n",
    "            if self.index == 1 & bool(link and link.strip()):\n",
    "                arti = BeautifulSoup(requests.get(link).text,'html.parser')\n",
    "                #print(arti)\n",
    "                more_item = arti.find('div',class_='canvas-body')\n",
    "                result = more_item.find('p')\n",
    "                #result = arti.find('div',class_='canvas-body').find('p')\n",
    "                #print(more_item)\n",
    "                topline = TextBlob(result.get_text())\n",
    "                self.arti_sentiment = topline.sentiment.polarity\n",
    "                self.arti_subjectivity = topline.sentiment.subjectivity\n",
    "                self.index +=1\n",
    "        if len(results)!=0:\n",
    "            d = {'title_sentiment':round(self.title_sentiment/ len(results),3), 'title_subjectivity':round(self.title_subjectivity/ len(results),3), 'arti_sentiment':round(self.arti_sentiment,3), 'arti_subjectivity':round(self.arti_subjectivity,3)}\n",
    "        else :\n",
    "            d= {'title_sentiment':0, 'title_subjectivity':0, 'arti_sentiment':0, 'arti_subjectivity':0}\n",
    "        df = pd.DataFrame(data=d,index = [0])\n",
    "        return(df)"
   ]
  },
  {
   "cell_type": "code",
   "execution_count": 96,
   "metadata": {},
   "outputs": [],
   "source": [
    "for i in range(454,566):\n",
    "    term = Analysis(name[i])\n",
    "    #print(term.run())\n",
    "    term.run().to_csv('test3.csv', mode='a', header=False)\n",
    "    #r1.append(term.run())"
   ]
  },
  {
   "cell_type": "markdown",
   "metadata": {},
   "source": [
    "### test a single case"
   ]
  },
  {
   "cell_type": "code",
   "execution_count": 93,
   "metadata": {},
   "outputs": [],
   "source": [
    "a = Analysis(name[454])"
   ]
  },
  {
   "cell_type": "code",
   "execution_count": 94,
   "metadata": {},
   "outputs": [],
   "source": [
    "r1 = a.run()"
   ]
  },
  {
   "cell_type": "code",
   "execution_count": 95,
   "metadata": {
    "scrolled": true
   },
   "outputs": [
    {
     "name": "stdout",
     "output_type": "stream",
     "text": [
      "   title_sentiment  title_subjectivity  arti_sentiment  arti_subjectivity\n",
      "0            0.039               0.235             0.0                0.0\n"
     ]
    }
   ],
   "source": [
    "type(r1)\n",
    "print(r1)"
   ]
  },
  {
   "cell_type": "code",
   "execution_count": 156,
   "metadata": {},
   "outputs": [],
   "source": [
    "b = Analysis(name[1])\n",
    "r2 = b.run()"
   ]
  },
  {
   "cell_type": "code",
   "execution_count": 157,
   "metadata": {},
   "outputs": [
    {
     "data": {
      "text/html": [
       "<div>\n",
       "<style scoped>\n",
       "    .dataframe tbody tr th:only-of-type {\n",
       "        vertical-align: middle;\n",
       "    }\n",
       "\n",
       "    .dataframe tbody tr th {\n",
       "        vertical-align: top;\n",
       "    }\n",
       "\n",
       "    .dataframe thead th {\n",
       "        text-align: right;\n",
       "    }\n",
       "</style>\n",
       "<table border=\"1\" class=\"dataframe\">\n",
       "  <thead>\n",
       "    <tr style=\"text-align: right;\">\n",
       "      <th></th>\n",
       "      <th>title_sentiment</th>\n",
       "      <th>title_subjectivity</th>\n",
       "      <th>arti_sentiment</th>\n",
       "      <th>arti_subjectivity</th>\n",
       "    </tr>\n",
       "  </thead>\n",
       "  <tbody>\n",
       "    <tr>\n",
       "      <td>0</td>\n",
       "      <td>0.084</td>\n",
       "      <td>0.176</td>\n",
       "      <td>0.048127</td>\n",
       "      <td>0.454697</td>\n",
       "    </tr>\n",
       "    <tr>\n",
       "      <td>0</td>\n",
       "      <td>0.000</td>\n",
       "      <td>0.125</td>\n",
       "      <td>0.000000</td>\n",
       "      <td>0.000000</td>\n",
       "    </tr>\n",
       "  </tbody>\n",
       "</table>\n",
       "</div>"
      ],
      "text/plain": [
       "   title_sentiment  title_subjectivity  arti_sentiment  arti_subjectivity\n",
       "0            0.084               0.176        0.048127           0.454697\n",
       "0            0.000               0.125        0.000000           0.000000"
      ]
     },
     "execution_count": 157,
     "metadata": {},
     "output_type": "execute_result"
    }
   ],
   "source": [
    "r1.append(r2)"
   ]
  },
  {
   "cell_type": "code",
   "execution_count": 251,
   "metadata": {},
   "outputs": [
    {
     "data": {
      "text/plain": [
       "pandas.core.frame.DataFrame"
      ]
     },
     "execution_count": 251,
     "metadata": {},
     "output_type": "execute_result"
    }
   ],
   "source": [
    "type(r1)"
   ]
  },
  {
   "cell_type": "code",
   "execution_count": 221,
   "metadata": {},
   "outputs": [
    {
     "name": "stdout",
     "output_type": "stream",
     "text": [
      "   title_sentiment  title_subjectivity  arti_sentiment  arti_subjectivity\n",
      "0         0.027656            0.116667               0                  0\n"
     ]
    }
   ],
   "source": [
    "print(Analysis(name[0]).run())"
   ]
  },
  {
   "cell_type": "markdown",
   "metadata": {},
   "source": [
    "## Exploratory Analysis"
   ]
  },
  {
   "cell_type": "code",
   "execution_count": 2,
   "metadata": {},
   "outputs": [],
   "source": [
    "import pandas as pd\n",
    "import matplotlib.pyplot as plt\n",
    "import seaborn as sns\n",
    "import numpy as np\n",
    "from scipy.stats import norm\n",
    "from sklearn.preprocessing import StandardScaler\n",
    "from scipy import stats"
   ]
  },
  {
   "cell_type": "code",
   "execution_count": 6,
   "metadata": {},
   "outputs": [
    {
     "data": {
      "text/plain": [
       "Index(['title_sentiment', 'title_subjectivity', 'art_sentiment',\n",
       "       'art_subjectivity'],\n",
       "      dtype='object')"
      ]
     },
     "execution_count": 6,
     "metadata": {},
     "output_type": "execute_result"
    }
   ],
   "source": [
    "index = pd.read_csv('sentiment.csv')\n",
    "index.columns"
   ]
  },
  {
   "cell_type": "code",
   "execution_count": null,
   "metadata": {},
   "outputs": [],
   "source": []
  },
  {
   "cell_type": "code",
   "execution_count": 7,
   "metadata": {},
   "outputs": [
    {
     "data": {
      "text/plain": [
       "<seaborn.axisgrid.PairGrid at 0x19bdda4b408>"
      ]
     },
     "execution_count": 7,
     "metadata": {},
     "output_type": "execute_result"
    },
    {
     "data": {
      "image/png": "[encoded data removed]",
      "text/plain": [
       "<Figure size 720x720 with 20 Axes>"
      ]
     },
     "metadata": {
      "needs_background": "light"
     },
     "output_type": "display_data"
    }
   ],
   "source": [
    "#histogram\n",
    "sns.pairplot(index)"
   ]
  },
  {
   "cell_type": "code",
   "execution_count": null,
   "metadata": {},
   "outputs": [],
   "source": []
  },
  {
   "cell_type": "markdown",
   "metadata": {
    "scrolled": true
   },
   "source": [
    "## below are test been ran"
   ]
  },
  {
   "cell_type": "code",
   "execution_count": 10,
   "metadata": {
    "scrolled": true
   },
   "outputs": [
    {
     "ename": "NameError",
     "evalue": "name 'query' is not defined",
     "output_type": "error",
     "traceback": [
      "\u001b[1;31m---------------------------------------------------------------------------\u001b[0m",
      "\u001b[1;31mNameError\u001b[0m                                 Traceback (most recent call last)",
      "\u001b[1;32m<ipython-input-10-85e626aafe00>\u001b[0m in \u001b[0;36m<module>\u001b[1;34m\u001b[0m\n\u001b[0;32m      1\u001b[0m \u001b[0mterm\u001b[0m \u001b[1;33m=\u001b[0m \u001b[1;34m'usa'\u001b[0m\u001b[1;33m\u001b[0m\u001b[1;33m\u001b[0m\u001b[0m\n\u001b[1;32m----> 2\u001b[1;33m \u001b[0murl\u001b[0m \u001b[1;33m=\u001b[0m \u001b[1;34mf'https://news.search.yahoo.com/search?q={query}'\u001b[0m\u001b[1;33m\u001b[0m\u001b[1;33m\u001b[0m\u001b[0m\n\u001b[0m\u001b[0;32m      3\u001b[0m \u001b[0mresponse\u001b[0m \u001b[1;33m=\u001b[0m \u001b[0mrequests\u001b[0m\u001b[1;33m.\u001b[0m\u001b[0mget\u001b[0m\u001b[1;33m(\u001b[0m\u001b[0murl\u001b[0m\u001b[1;33m)\u001b[0m\u001b[1;33m\u001b[0m\u001b[1;33m\u001b[0m\u001b[0m\n\u001b[0;32m      4\u001b[0m \u001b[0msoup\u001b[0m \u001b[1;33m=\u001b[0m \u001b[0mBeautifulSoup\u001b[0m\u001b[1;33m(\u001b[0m\u001b[0mresponse\u001b[0m\u001b[1;33m.\u001b[0m\u001b[0mtext\u001b[0m\u001b[1;33m,\u001b[0m \u001b[1;34m'html.parser'\u001b[0m\u001b[1;33m)\u001b[0m\u001b[1;33m\u001b[0m\u001b[1;33m\u001b[0m\u001b[0m\n\u001b[0;32m      5\u001b[0m \u001b[0mtitle_sentiment\u001b[0m \u001b[1;33m=\u001b[0m \u001b[1;36m0\u001b[0m\u001b[1;33m\u001b[0m\u001b[1;33m\u001b[0m\u001b[0m\n",
      "\u001b[1;31mNameError\u001b[0m: name 'query' is not defined"
     ]
    }
   ],
   "source": [
    "term = 'usa'\n",
    "url = f'https://news.search.yahoo.com/search?q={query}'\n",
    "response = requests.get(url)\n",
    "soup = BeautifulSoup(response.text, 'html.parser')\n",
    "title_sentiment = 0\n",
    "title_subjectivity = 0\n",
    "results = soup.find_all('div', class_='dd NewsArticle')\n",
    "index = 0\n",
    "for news_item in results:\n",
    "    title = news_item.find('h4').text\n",
    "    blob = TextBlob(title)\n",
    "    print(index)\n",
    "    title_sentiment += blob.sentiment.polarity\n",
    "    title_subjectivity += blob.sentiment.subjectivity\n",
    "    time = news_item.find('span', class_='fc-2nd').text\n",
    "    # Clean time text\n",
    "    time = time.replace('·', '').strip()\n",
    "    link = news_item.find('a').get('href')\n",
    "    print(\"{} ({}) {} {}\".format(title, time, title_sentiment, title_subjectivity))\n",
    "    if index == 0 & bool(link and link.strip()):\n",
    "        arti = BeautifulSoup(requests.get(link).text,'html.parser')\n",
    "        print(arti)\n",
    "        for more_item in arti.find_all('div',class_='canvas-body'):\n",
    "            sentiment = 0\n",
    "            subjectivity = 0\n",
    "            print('runs into the loop now')\n",
    "            result = more_item.find('p')\n",
    "            topline = TextBlob(result.get_text())\n",
    "            sentiment = topline.sentiment.polarity\n",
    "            subjectivity = topline.sentiment.subjectivity\n",
    "            print(sentiment, subjectivity)\n",
    "    index += 1\n",
    "    print(index)\n",
    "print(title_sentiment/ len(results), title_subjectivity/ len(results),len(results))"
   ]
  },
  {
   "cell_type": "code",
   "execution_count": 6,
   "metadata": {},
   "outputs": [],
   "source": [
    "# clean text\n",
    "def clean_articles(self, topline):\n",
    "    return ' '.join(re.sub(\"(@[A-Za-z0-9]+)|([^0-9A-Za-z \\t])|(\\w+:\\/\\/\\S+)\", \" \", topline).split())"
   ]
  },
  {
   "cell_type": "code",
   "execution_count": 98,
   "metadata": {},
   "outputs": [],
   "source": [
    "#print(soup.find_all('div',class_= 'NewsArticle'))"
   ]
  },
  {
   "cell_type": "code",
   "execution_count": 97,
   "metadata": {},
   "outputs": [],
   "source": [
    "arti = BeautifulSoup(requests.get(link).text,'html.parser')\n",
    "for more_item in arti.find_all('div',class_='canvas-body'):\n",
    "    for all_item in more_item.find_all('p'):\n",
    "        topline = all_item.get_text()\n",
    "        #print(topline)"
   ]
  },
  {
   "cell_type": "code",
   "execution_count": 100,
   "metadata": {},
   "outputs": [
    {
     "data": {
      "text/plain": [
       "False"
      ]
     },
     "execution_count": 100,
     "metadata": {},
     "output_type": "execute_result"
    }
   ],
   "source": [
    "# To check if the string is empty\n",
    "a = None\n",
    "bool(a and a.strip())"
   ]
  },
  {
   "cell_type": "code",
   "execution_count": 7,
   "metadata": {},
   "outputs": [],
   "source": [
    "# build-in sentiment analysis library\n",
    "blob = TextBlob('I am a bad guy and so are you. dont pretend it is ok to not to wash dishes!!!')\n",
    "self_sentiment = blob.sentiment.polarity\n",
    "self_subjectivity = blob.sentiment.subjectivity"
   ]
  },
  {
   "cell_type": "code",
   "execution_count": 8,
   "metadata": {},
   "outputs": [
    {
     "data": {
      "text/plain": [
       "0.13828125000000008"
      ]
     },
     "execution_count": 8,
     "metadata": {},
     "output_type": "execute_result"
    }
   ],
   "source": [
    "self_sentiment"
   ]
  },
  {
   "cell_type": "code",
   "execution_count": 9,
   "metadata": {},
   "outputs": [
    {
     "data": {
      "text/plain": [
       "0.5833333333333333"
      ]
     },
     "execution_count": 9,
     "metadata": {},
     "output_type": "execute_result"
    }
   ],
   "source": [
    "self_subjectivity"
   ]
  }
 ],
 "metadata": {
  "kernelspec": {
   "display_name": "Python 3",
   "language": "python",
   "name": "python3"
  },
  "language_info": {
   "codemirror_mode": {
    "name": "ipython",
    "version": 3
   },
   "file_extension": ".py",
   "mimetype": "text/x-python",
   "name": "python",
   "nbconvert_exporter": "python",
   "pygments_lexer": "ipython3",
   "version": "3.7.4"
  }
 },
 "nbformat": 4,
 "nbformat_minor": 2
}
